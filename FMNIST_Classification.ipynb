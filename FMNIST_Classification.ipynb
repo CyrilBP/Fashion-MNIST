{
 "cells": [
  {
   "cell_type": "markdown",
   "metadata": {},
   "source": [
    "### Compare the performance of CNN, CNN with batch norm versus fully connected Neural net "
   ]
  },
  {
   "cell_type": "code",
   "execution_count": 1,
   "metadata": {},
   "outputs": [],
   "source": [
    "import numpy as np\n",
    "\n",
    "import torch\n",
    "from torchvision import datasets, transforms\n",
    "\n",
    "import torch.optim as optim\n",
    "\n",
    "import torch.nn as nn\n",
    "import torch.nn.functional as F\n",
    "\n",
    "import matplotlib.pyplot as plt\n",
    "%matplotlib inline\n",
    "\n",
    "from tqdm import tqdm"
   ]
  },
  {
   "cell_type": "code",
   "execution_count": 2,
   "metadata": {},
   "outputs": [],
   "source": [
    "#defining common parameters\n",
    "batch_size = 32\n",
    "n_epochs = 20\n",
    "print_every = 300\n"
   ]
  },
  {
   "cell_type": "code",
   "execution_count": 3,
   "metadata": {},
   "outputs": [
    {
     "name": "stdout",
     "output_type": "stream",
     "text": [
      "Downloading http://fashion-mnist.s3-website.eu-central-1.amazonaws.com/train-images-idx3-ubyte.gz to C:\\Users\\Cyril Bosse-Platiere/.pytorch/FMNIST_data/FashionMNIST\\raw\\train-images-idx3-ubyte.gz\n"
     ]
    },
    {
     "data": {
      "application/vnd.jupyter.widget-view+json": {
       "model_id": "b9cdfe077a6e49c99afc65c685e5acbc",
       "version_major": 2,
       "version_minor": 0
      },
      "text/plain": [
       "HBox(children=(FloatProgress(value=1.0, bar_style='info', max=1.0), HTML(value='')))"
      ]
     },
     "metadata": {},
     "output_type": "display_data"
    },
    {
     "name": "stdout",
     "output_type": "stream",
     "text": [
      "Extracting C:\\Users\\Cyril Bosse-Platiere/.pytorch/FMNIST_data/FashionMNIST\\raw\\train-images-idx3-ubyte.gz to C:\\Users\\Cyril Bosse-Platiere/.pytorch/FMNIST_data/FashionMNIST\\raw\n",
      "Downloading http://fashion-mnist.s3-website.eu-central-1.amazonaws.com/train-labels-idx1-ubyte.gz to C:\\Users\\Cyril Bosse-Platiere/.pytorch/FMNIST_data/FashionMNIST\\raw\\train-labels-idx1-ubyte.gz\n"
     ]
    },
    {
     "data": {
      "application/vnd.jupyter.widget-view+json": {
       "model_id": "2b8ae440635f45adbad987d8df75f73c",
       "version_major": 2,
       "version_minor": 0
      },
      "text/plain": [
       "HBox(children=(FloatProgress(value=1.0, bar_style='info', max=1.0), HTML(value='')))"
      ]
     },
     "metadata": {},
     "output_type": "display_data"
    },
    {
     "name": "stdout",
     "output_type": "stream",
     "text": [
      "Extracting C:\\Users\\Cyril Bosse-Platiere/.pytorch/FMNIST_data/FashionMNIST\\raw\\train-labels-idx1-ubyte.gz to C:\\Users\\Cyril Bosse-Platiere/.pytorch/FMNIST_data/FashionMNIST\\raw\n",
      "Downloading http://fashion-mnist.s3-website.eu-central-1.amazonaws.com/t10k-images-idx3-ubyte.gz to C:\\Users\\Cyril Bosse-Platiere/.pytorch/FMNIST_data/FashionMNIST\\raw\\t10k-images-idx3-ubyte.gz\n",
      "\n"
     ]
    },
    {
     "data": {
      "application/vnd.jupyter.widget-view+json": {
       "model_id": "58dff3b70089400ea7e7e715965c91ab",
       "version_major": 2,
       "version_minor": 0
      },
      "text/plain": [
       "HBox(children=(FloatProgress(value=1.0, bar_style='info', max=1.0), HTML(value='')))"
      ]
     },
     "metadata": {},
     "output_type": "display_data"
    },
    {
     "name": "stdout",
     "output_type": "stream",
     "text": [
      "Extracting C:\\Users\\Cyril Bosse-Platiere/.pytorch/FMNIST_data/FashionMNIST\\raw\\t10k-images-idx3-ubyte.gz to C:\\Users\\Cyril Bosse-Platiere/.pytorch/FMNIST_data/FashionMNIST\\raw\n",
      "Downloading http://fashion-mnist.s3-website.eu-central-1.amazonaws.com/t10k-labels-idx1-ubyte.gz to C:\\Users\\Cyril Bosse-Platiere/.pytorch/FMNIST_data/FashionMNIST\\raw\\t10k-labels-idx1-ubyte.gz\n"
     ]
    },
    {
     "data": {
      "application/vnd.jupyter.widget-view+json": {
       "model_id": "17dcfa1a69044d5895ea3b73bdc533b6",
       "version_major": 2,
       "version_minor": 0
      },
      "text/plain": [
       "HBox(children=(FloatProgress(value=1.0, bar_style='info', max=1.0), HTML(value='')))"
      ]
     },
     "metadata": {},
     "output_type": "display_data"
    },
    {
     "name": "stdout",
     "output_type": "stream",
     "text": [
      "Extracting C:\\Users\\Cyril Bosse-Platiere/.pytorch/FMNIST_data/FashionMNIST\\raw\\t10k-labels-idx1-ubyte.gz to C:\\Users\\Cyril Bosse-Platiere/.pytorch/FMNIST_data/FashionMNIST\\raw\n",
      "Processing...\n",
      "Done!\n"
     ]
    }
   ],
   "source": [
    "#setting up transforming of the images\n",
    "transform = transforms.Compose([transforms.ToTensor(), transforms.Normalize((0.5,), (0.5,))])\n",
    "\n",
    "#loading train and val sets\n",
    "trainset = datasets.FashionMNIST('~/.pytorch/FMNIST_data/', download=True, train=True, transform=transform)\n",
    "trainloader = torch.utils.data.DataLoader(trainset, batch_size=batch_size, shuffle=True)\n",
    "\n",
    "testset = datasets.FashionMNIST('~/.pytorch/FMNIST_data/', download=True, train=False, transform=transform)\n",
    "testloader = torch.utils.data.DataLoader(testset, batch_size=batch_size, shuffle=False)\n"
   ]
  },
  {
   "cell_type": "code",
   "execution_count": 4,
   "metadata": {},
   "outputs": [
    {
     "name": "stdout",
     "output_type": "stream",
     "text": [
      "{'Sneaker': 7, 'Dress': 3, 'Trouser': 1, 'T-shirt/top': 0, 'Pullover': 2, 'Bag': 8, 'Coat': 4, 'Shirt': 6, 'Ankle boot': 9, 'Sandal': 5}\n"
     ]
    },
    {
     "data": {
      "image/png": "[encoded data removed]",
      "text/plain": [
       "<matplotlib.figure.Figure at 0x2487ef37cf8>"
      ]
     },
     "metadata": {
      "needs_background": "light"
     },
     "output_type": "display_data"
    }
   ],
   "source": [
    "img, lab = next(iter(trainloader))\n",
    "fig, ax = plt.subplots()\n",
    "ax.imshow(np.squeeze(img[0].numpy()), cmap='gray')\n",
    "    # print out the correct label for each image\n",
    "    # .item() gets the value contained in a Tensor\n",
    "ax.set_title(str(lab[0].item()))\n",
    "print(trainset.class_to_idx)"
   ]
  },
  {
   "cell_type": "code",
   "execution_count": 5,
   "metadata": {},
   "outputs": [],
   "source": [
    "#create a fully connected layer\n",
    "class MLP(nn.Module):\n",
    "    def __init__(self, input_size, output_size, hidden_layers, drop_p=0.5):\n",
    "        super(MLP, self).__init__()\n",
    "        \n",
    "        #first layer\n",
    "        self.hidden_layers = nn.ModuleList([nn.Linear(input_size, hidden_layers[0])])\n",
    "        \n",
    "        #intermediate layers\n",
    "        layer_sizes = zip(hidden_layers[:-1], hidden_layers[1:])\n",
    "        self.hidden_layers.extend([nn.Linear(h1, h2) for (h1, h2) in layer_sizes])\n",
    "        \n",
    "        #output layer\n",
    "        self.output = nn.Linear(hidden_layers[-1], output_size)\n",
    "        \n",
    "        #droput\n",
    "        self.dropout = nn.Dropout(p=drop_p)\n",
    "    \n",
    "    def forward(self, x):\n",
    "        #looping through hidden layers\n",
    "        x = x.view(x.shape[0], -1)\n",
    "        \n",
    "        for each in self.hidden_layers:\n",
    "            x = F.relu(each(x))\n",
    "            x = self.dropout(x)\n",
    "        \n",
    "        #final layer\n",
    "        x = self.output(x)\n",
    "        \n",
    "        #softmax for multi output classifications\n",
    "        x = F.log_softmax(x, dim=1)\n",
    "        \n",
    "        return x\n",
    "        \n",
    "        "
   ]
  },
  {
   "cell_type": "code",
   "execution_count": 6,
   "metadata": {},
   "outputs": [],
   "source": [
    "#image size after Convolution = (size_before - kernel_size + 2*padding) // stride + 1 \n",
    "def conv(in_channels, out_channels, kernel_size, stride, padding=1, batch_norm=True, maxpool=True):\n",
    "    layers=[]\n",
    "    \n",
    "    conv_layers = nn.Conv2d(in_channels=in_channels, out_channels=out_channels, kernel_size=kernel_size,\n",
    "                           stride=stride, padding=padding, bias = (not batch_norm))\n",
    "    layers.append(conv_layers)\n",
    "    \n",
    "    if batch_norm:\n",
    "        layers.append(nn.BatchNorm2d(out_channels))\n",
    "    \n",
    "    #if maxpool: #onlyu sue maxpool for large images, to adapt this size stride / use\n",
    "    #    layers.append(nn.MaxPool2d(2,2))\n",
    "    \n",
    "    return nn.Sequential(*layers)"
   ]
  },
  {
   "cell_type": "code",
   "execution_count": 7,
   "metadata": {},
   "outputs": [],
   "source": [
    "#create a CNN/maxpooling where depths increase by 2 for each convolution starting from a given conv_dims_base\n",
    "#we assume a square image\n",
    "class CNN(nn.Module):\n",
    "    def __init__(self,  conv_dims_base, conv_depth, image_size, output_size, bact_norm=False, drop_p=0.5):\n",
    "        super(CNN, self).__init__()\n",
    "        \n",
    "        #first convolutio\n",
    "        self.conv_layers = nn.ModuleList([conv(1, conv_dims_base, kernel_size=3, stride=2, batch_norm=bact_norm)])  \n",
    "        self.image_size = int(image_size / 2)\n",
    "        \n",
    "        if conv_depth>1:\n",
    "            self.conv_layers.extend([conv(conv_dims_base * 2**(i-1), conv_dims_base * 2**i,\n",
    "                                          kernel_size=3, stride=2, batch_norm=bact_norm) for i in np.arange(1, conv_depth)])\n",
    "            self.image_size = int(self.image_size /  2 **(conv_depth-1))\n",
    "        \n",
    "        self.fc1 = nn.Linear(self.image_size*self.image_size * conv_dims_base * 2**(conv_depth-1), 2*output_size)\n",
    "        self.fc2 = nn.Linear(2*output_size, output_size)\n",
    "        \n",
    "        self.dropout = nn.Dropout(p=drop_p)\n",
    "        \n",
    "    def forward(self, x):\n",
    "\n",
    "        for each in self.conv_layers:\n",
    "            x = F.relu(each(x))\n",
    "    \n",
    "        x = x.view(x.shape[0], -1)\n",
    "        \n",
    "        x = F.relu(self.fc1(x))\n",
    "        x = self.dropout(x)\n",
    "        \n",
    "        x = F.log_softmax(self.fc2(x), dim=1)\n",
    "        \n",
    "        return x\n"
   ]
  },
  {
   "cell_type": "code",
   "execution_count": 8,
   "metadata": {},
   "outputs": [],
   "source": [
    "def complexity_parameters(neural_net):\n",
    "    #Computing the numbers of parameters involved for a given neural net\n",
    "    param_count=0\n",
    "    \n",
    "    for i in neural_net.state_dict().values():\n",
    "        dim_i = list(i.shape)\n",
    "        param_count += np.prod(dim_i)\n",
    "    \n",
    "    return int(param_count)"
   ]
  },
  {
   "cell_type": "code",
   "execution_count": 9,
   "metadata": {},
   "outputs": [
    {
     "name": "stdout",
     "output_type": "stream",
     "text": [
      "59850\n",
      "36390\n",
      "36536\n"
     ]
    }
   ],
   "source": [
    "mlp = MLP(28*28, 10, [64,128])\n",
    "print(complexity_parameters(mlp))\n",
    "\n",
    "cnn = CNN(16, 2, 28, 10)\n",
    "print(complexity_parameters(cnn))\n",
    "\n",
    "cnn_batch = CNN(16, 2, 28, 10, bact_norm=True)\n",
    "print(complexity_parameters(cnn_batch))"
   ]
  },
  {
   "cell_type": "markdown",
   "metadata": {},
   "source": [
    "### Due to its easier calibration, we allow the mlp to have much more parameters than the CNN\n",
    "Let's train them now"
   ]
  },
  {
   "cell_type": "code",
   "execution_count": 10,
   "metadata": {},
   "outputs": [],
   "source": [
    "criterion = nn.NLLLoss()\n",
    "optimizer_mlp = optim.Adam(mlp.parameters(), lr=0.001)\n",
    "optimizer_cnn = optim.Adam(cnn.parameters(), lr=0.001)\n",
    "optimizer_cnn_batch = optim.Adam(cnn_batch.parameters(), lr=0.001)"
   ]
  },
  {
   "cell_type": "markdown",
   "metadata": {},
   "source": [
    "### Let's do the training"
   ]
  },
  {
   "cell_type": "code",
   "execution_count": 11,
   "metadata": {},
   "outputs": [],
   "source": [
    "def training(model, optimizer, criterion, trainloader, testloader, n_epochs, save_path, need_eval=False, print_every=100):\n",
    "    if need_eval:\n",
    "        model.train()\n",
    "        \n",
    "    test_loss_min = np.Inf \n",
    "    list_train_loss, list_test_loss, list_accuracy = [], [], []\n",
    "    \n",
    "    for e in tqdm(range(n_epochs)):\n",
    "        \n",
    "        train_loss = 0\n",
    "        test_loss = 0\n",
    "        accuracy = 0\n",
    "        n_batch = len(trainloader)\n",
    "        for batch_idx, (inputs, labels) in enumerate(trainloader):\n",
    "            \n",
    "            optimizer.zero_grad()\n",
    "            outputs = model(inputs)\n",
    "            loss = criterion(outputs, labels)\n",
    "            loss.backward()\n",
    "            optimizer.step()\n",
    "            \n",
    "            train_loss += 1/(batch_idx+1) * (loss.item() - train_loss)\n",
    "            \n",
    "            if (batch_idx + 1) %print_every == 0 or batch_idx == n_batch-1:\n",
    "                print(\"Current Epoch: {}/{}, Current Progress: {}/{}, Train Loss: {:.6f}\".format(e+1, n_epochs, batch_idx+1, \n",
    "                                                                                               n_batch, train_loss))\n",
    "        ######################    \n",
    "        # validate the model #\n",
    "        ######################\n",
    "        if need_eval:\n",
    "            model.eval()\n",
    "        for inputs, labels in testloader:\n",
    "            with torch.no_grad():\n",
    "                outputs = model(inputs)\n",
    "                \n",
    "                ps = torch.exp(outputs)\n",
    "                _, top_class = ps.topk(1, dim=1)\n",
    "                equals = top_class==labels.view(*top_class.shape)\n",
    "                accuracy += torch.mean(equals.type(torch.FloatTensor))\n",
    "                \n",
    "                loss = criterion(outputs, labels)\n",
    "                test_loss += loss.item()\n",
    "                \n",
    "        test_loss /= len(testloader)\n",
    "        accuracy /= len(testloader)\n",
    "        if need_eval:\n",
    "            model.train()\n",
    "        \n",
    "        print(\"Current Epoch: {}/{}, Test Loss: {:.6f}, Test Accuracy: {:.3f} %\".format(e+1, n_epochs, \n",
    "                                                                                        test_loss, 100*accuracy))\n",
    "        \n",
    "        if test_loss < test_loss_min:\n",
    "            print('Validation loss decreased ({:.6f} --> {:.6f}). Saving model ...'.format(test_loss_min, test_loss))\n",
    "            torch.save(model.state_dict(), save_path)\n",
    "            test_loss_min = test_loss\n",
    "        \n",
    "        \n",
    "        \n",
    "        list_train_loss += [train_loss]\n",
    "        list_test_loss += [test_loss]\n",
    "        list_accuracy += [accuracy]\n",
    "\n",
    "        \n",
    "    return [list_train_loss, list_test_loss, list_accuracy]"
   ]
  },
  {
   "cell_type": "code",
   "execution_count": 12,
   "metadata": {},
   "outputs": [
    {
     "name": "stderr",
     "output_type": "stream",
     "text": [
      "\r",
      "  0%|                                                                                           | 0/20 [00:00<?, ?it/s]"
     ]
    },
    {
     "name": "stdout",
     "output_type": "stream",
     "text": [
      "Current Epoch: 1/20, Current Progress: 300/1875, Train Loss: 1.157184\n",
      "Current Epoch: 1/20, Current Progress: 600/1875, Train Loss: 0.977175\n",
      "Current Epoch: 1/20, Current Progress: 900/1875, Train Loss: 0.895231\n",
      "Current Epoch: 1/20, Current Progress: 1200/1875, Train Loss: 0.847079\n",
      "Current Epoch: 1/20, Current Progress: 1500/1875, Train Loss: 0.809854\n",
      "Current Epoch: 1/20, Current Progress: 1800/1875, Train Loss: 0.780145\n",
      "Current Epoch: 1/20, Current Progress: 1875/1875, Train Loss: 0.775614\n"
     ]
    },
    {
     "name": "stderr",
     "output_type": "stream",
     "text": [
      "\r",
      "  5%|████▏                                                                              | 1/20 [00:44<14:05, 44.49s/it]"
     ]
    },
    {
     "name": "stdout",
     "output_type": "stream",
     "text": [
      "Current Epoch: 1/20, Test Loss: 0.513035, Test Accuracy: 81.979 %\n",
      "Validation loss decreased (inf --> 0.513035). Saving model ...\n",
      "Current Epoch: 2/20, Current Progress: 300/1875, Train Loss: 0.603008\n",
      "Current Epoch: 2/20, Current Progress: 600/1875, Train Loss: 0.610829\n",
      "Current Epoch: 2/20, Current Progress: 900/1875, Train Loss: 0.611440\n",
      "Current Epoch: 2/20, Current Progress: 1200/1875, Train Loss: 0.611076\n",
      "Current Epoch: 2/20, Current Progress: 1500/1875, Train Loss: 0.606537\n",
      "Current Epoch: 2/20, Current Progress: 1800/1875, Train Loss: 0.604910\n",
      "Current Epoch: 2/20, Current Progress: 1875/1875, Train Loss: 0.605907\n"
     ]
    },
    {
     "name": "stderr",
     "output_type": "stream",
     "text": [
      "\r",
      " 10%|████████▎                                                                          | 2/20 [01:27<13:10, 43.94s/it]"
     ]
    },
    {
     "name": "stdout",
     "output_type": "stream",
     "text": [
      "Current Epoch: 2/20, Test Loss: 0.483827, Test Accuracy: 82.688 %\n",
      "Validation loss decreased (0.513035 --> 0.483827). Saving model ...\n",
      "Current Epoch: 3/20, Current Progress: 300/1875, Train Loss: 0.552140\n",
      "Current Epoch: 3/20, Current Progress: 600/1875, Train Loss: 0.562298\n",
      "Current Epoch: 3/20, Current Progress: 900/1875, Train Loss: 0.560077\n",
      "Current Epoch: 3/20, Current Progress: 1200/1875, Train Loss: 0.567431\n",
      "Current Epoch: 3/20, Current Progress: 1500/1875, Train Loss: 0.565070\n",
      "Current Epoch: 3/20, Current Progress: 1800/1875, Train Loss: 0.565063\n",
      "Current Epoch: 3/20, Current Progress: 1875/1875, Train Loss: 0.565965\n"
     ]
    },
    {
     "name": "stderr",
     "output_type": "stream",
     "text": [
      "\r",
      " 15%|████████████▍                                                                      | 3/20 [02:07<12:09, 42.94s/it]"
     ]
    },
    {
     "name": "stdout",
     "output_type": "stream",
     "text": [
      "Current Epoch: 3/20, Test Loss: 0.454251, Test Accuracy: 83.207 %\n",
      "Validation loss decreased (0.483827 --> 0.454251). Saving model ...\n",
      "Current Epoch: 4/20, Current Progress: 300/1875, Train Loss: 0.545137\n",
      "Current Epoch: 4/20, Current Progress: 600/1875, Train Loss: 0.543658\n",
      "Current Epoch: 4/20, Current Progress: 900/1875, Train Loss: 0.542573\n",
      "Current Epoch: 4/20, Current Progress: 1200/1875, Train Loss: 0.545020\n",
      "Current Epoch: 4/20, Current Progress: 1500/1875, Train Loss: 0.546100\n",
      "Current Epoch: 4/20, Current Progress: 1800/1875, Train Loss: 0.547647\n",
      "Current Epoch: 4/20, Current Progress: 1875/1875, Train Loss: 0.548969\n"
     ]
    },
    {
     "name": "stderr",
     "output_type": "stream",
     "text": [
      "\r",
      " 20%|████████████████▌                                                                  | 4/20 [02:50<11:24, 42.80s/it]"
     ]
    },
    {
     "name": "stdout",
     "output_type": "stream",
     "text": [
      "Current Epoch: 4/20, Test Loss: 0.448402, Test Accuracy: 83.576 %\n",
      "Validation loss decreased (0.454251 --> 0.448402). Saving model ...\n",
      "Current Epoch: 5/20, Current Progress: 300/1875, Train Loss: 0.538823\n",
      "Current Epoch: 5/20, Current Progress: 600/1875, Train Loss: 0.536141\n",
      "Current Epoch: 5/20, Current Progress: 900/1875, Train Loss: 0.530248\n",
      "Current Epoch: 5/20, Current Progress: 1200/1875, Train Loss: 0.536853\n",
      "Current Epoch: 5/20, Current Progress: 1500/1875, Train Loss: 0.534387\n",
      "Current Epoch: 5/20, Current Progress: 1800/1875, Train Loss: 0.535768\n",
      "Current Epoch: 5/20, Current Progress: 1875/1875, Train Loss: 0.536023\n"
     ]
    },
    {
     "name": "stderr",
     "output_type": "stream",
     "text": [
      "\r",
      " 25%|████████████████████▊                                                              | 5/20 [03:33<10:44, 42.96s/it]"
     ]
    },
    {
     "name": "stdout",
     "output_type": "stream",
     "text": [
      "Current Epoch: 5/20, Test Loss: 0.448087, Test Accuracy: 83.367 %\n",
      "Validation loss decreased (0.448402 --> 0.448087). Saving model ...\n",
      "Current Epoch: 6/20, Current Progress: 300/1875, Train Loss: 0.537176\n",
      "Current Epoch: 6/20, Current Progress: 600/1875, Train Loss: 0.527826\n",
      "Current Epoch: 6/20, Current Progress: 900/1875, Train Loss: 0.529804\n",
      "Current Epoch: 6/20, Current Progress: 1200/1875, Train Loss: 0.528047\n",
      "Current Epoch: 6/20, Current Progress: 1500/1875, Train Loss: 0.526857\n",
      "Current Epoch: 6/20, Current Progress: 1800/1875, Train Loss: 0.525140\n",
      "Current Epoch: 6/20, Current Progress: 1875/1875, Train Loss: 0.527170\n"
     ]
    },
    {
     "name": "stderr",
     "output_type": "stream",
     "text": [
      "\r",
      " 30%|████████████████████████▉                                                          | 6/20 [04:05<09:13, 39.53s/it]"
     ]
    },
    {
     "name": "stdout",
     "output_type": "stream",
     "text": [
      "Current Epoch: 6/20, Test Loss: 0.437962, Test Accuracy: 83.936 %\n",
      "Validation loss decreased (0.448087 --> 0.437962). Saving model ...\n",
      "Current Epoch: 7/20, Current Progress: 300/1875, Train Loss: 0.513245\n",
      "Current Epoch: 7/20, Current Progress: 600/1875, Train Loss: 0.517853\n",
      "Current Epoch: 7/20, Current Progress: 900/1875, Train Loss: 0.514196\n",
      "Current Epoch: 7/20, Current Progress: 1200/1875, Train Loss: 0.513620\n",
      "Current Epoch: 7/20, Current Progress: 1500/1875, Train Loss: 0.512316\n",
      "Current Epoch: 7/20, Current Progress: 1800/1875, Train Loss: 0.513830\n",
      "Current Epoch: 7/20, Current Progress: 1875/1875, Train Loss: 0.512167\n"
     ]
    },
    {
     "name": "stderr",
     "output_type": "stream",
     "text": [
      "\r",
      " 35%|█████████████████████████████                                                      | 7/20 [04:47<08:46, 40.52s/it]"
     ]
    },
    {
     "name": "stdout",
     "output_type": "stream",
     "text": [
      "Current Epoch: 7/20, Test Loss: 0.447903, Test Accuracy: 83.666 %\n",
      "Current Epoch: 8/20, Current Progress: 300/1875, Train Loss: 0.522648\n",
      "Current Epoch: 8/20, Current Progress: 600/1875, Train Loss: 0.511100\n",
      "Current Epoch: 8/20, Current Progress: 900/1875, Train Loss: 0.515691\n",
      "Current Epoch: 8/20, Current Progress: 1200/1875, Train Loss: 0.513004\n",
      "Current Epoch: 8/20, Current Progress: 1500/1875, Train Loss: 0.513196\n",
      "Current Epoch: 8/20, Current Progress: 1800/1875, Train Loss: 0.511009\n",
      "Current Epoch: 8/20, Current Progress: 1875/1875, Train Loss: 0.511024\n"
     ]
    },
    {
     "name": "stderr",
     "output_type": "stream",
     "text": [
      "\r",
      " 40%|█████████████████████████████████▏                                                 | 8/20 [05:30<08:11, 41.00s/it]"
     ]
    },
    {
     "name": "stdout",
     "output_type": "stream",
     "text": [
      "Current Epoch: 8/20, Test Loss: 0.425825, Test Accuracy: 84.615 %\n",
      "Validation loss decreased (0.437962 --> 0.425825). Saving model ...\n",
      "Current Epoch: 9/20, Current Progress: 300/1875, Train Loss: 0.491220\n",
      "Current Epoch: 9/20, Current Progress: 600/1875, Train Loss: 0.489739\n",
      "Current Epoch: 9/20, Current Progress: 900/1875, Train Loss: 0.496040\n",
      "Current Epoch: 9/20, Current Progress: 1200/1875, Train Loss: 0.502052\n",
      "Current Epoch: 9/20, Current Progress: 1500/1875, Train Loss: 0.501989\n",
      "Current Epoch: 9/20, Current Progress: 1800/1875, Train Loss: 0.504018\n",
      "Current Epoch: 9/20, Current Progress: 1875/1875, Train Loss: 0.502724\n"
     ]
    },
    {
     "name": "stderr",
     "output_type": "stream",
     "text": [
      "\r",
      " 45%|█████████████████████████████████████▎                                             | 9/20 [06:11<07:33, 41.20s/it]"
     ]
    },
    {
     "name": "stdout",
     "output_type": "stream",
     "text": [
      "Current Epoch: 9/20, Test Loss: 0.426412, Test Accuracy: 84.465 %\n",
      "Current Epoch: 10/20, Current Progress: 300/1875, Train Loss: 0.477008\n",
      "Current Epoch: 10/20, Current Progress: 600/1875, Train Loss: 0.485605\n",
      "Current Epoch: 10/20, Current Progress: 900/1875, Train Loss: 0.486253\n",
      "Current Epoch: 10/20, Current Progress: 1200/1875, Train Loss: 0.495533\n",
      "Current Epoch: 10/20, Current Progress: 1500/1875, Train Loss: 0.494975\n",
      "Current Epoch: 10/20, Current Progress: 1800/1875, Train Loss: 0.495419\n",
      "Current Epoch: 10/20, Current Progress: 1875/1875, Train Loss: 0.494303\n"
     ]
    },
    {
     "name": "stderr",
     "output_type": "stream",
     "text": [
      "\r",
      " 50%|█████████████████████████████████████████                                         | 10/20 [06:53<06:54, 41.47s/it]"
     ]
    },
    {
     "name": "stdout",
     "output_type": "stream",
     "text": [
      "Current Epoch: 10/20, Test Loss: 0.415750, Test Accuracy: 84.325 %\n",
      "Validation loss decreased (0.425825 --> 0.415750). Saving model ...\n",
      "Current Epoch: 11/20, Current Progress: 300/1875, Train Loss: 0.497717\n",
      "Current Epoch: 11/20, Current Progress: 600/1875, Train Loss: 0.493303\n",
      "Current Epoch: 11/20, Current Progress: 900/1875, Train Loss: 0.494651\n",
      "Current Epoch: 11/20, Current Progress: 1200/1875, Train Loss: 0.496857\n",
      "Current Epoch: 11/20, Current Progress: 1500/1875, Train Loss: 0.499824\n",
      "Current Epoch: 11/20, Current Progress: 1800/1875, Train Loss: 0.496679\n",
      "Current Epoch: 11/20, Current Progress: 1875/1875, Train Loss: 0.497293\n"
     ]
    },
    {
     "name": "stderr",
     "output_type": "stream",
     "text": [
      "\r",
      " 55%|█████████████████████████████████████████████                                     | 11/20 [07:37<06:19, 42.21s/it]"
     ]
    },
    {
     "name": "stdout",
     "output_type": "stream",
     "text": [
      "Current Epoch: 11/20, Test Loss: 0.431649, Test Accuracy: 84.046 %\n",
      "Current Epoch: 12/20, Current Progress: 300/1875, Train Loss: 0.504443\n",
      "Current Epoch: 12/20, Current Progress: 600/1875, Train Loss: 0.496046\n",
      "Current Epoch: 12/20, Current Progress: 900/1875, Train Loss: 0.491891\n",
      "Current Epoch: 12/20, Current Progress: 1200/1875, Train Loss: 0.492921\n",
      "Current Epoch: 12/20, Current Progress: 1500/1875, Train Loss: 0.491309\n",
      "Current Epoch: 12/20, Current Progress: 1800/1875, Train Loss: 0.488436\n",
      "Current Epoch: 12/20, Current Progress: 1875/1875, Train Loss: 0.490877\n"
     ]
    },
    {
     "name": "stderr",
     "output_type": "stream",
     "text": [
      "\r",
      " 60%|█████████████████████████████████████████████████▏                                | 12/20 [08:19<05:37, 42.15s/it]"
     ]
    },
    {
     "name": "stdout",
     "output_type": "stream",
     "text": [
      "Current Epoch: 12/20, Test Loss: 0.425055, Test Accuracy: 84.495 %\n",
      "Current Epoch: 13/20, Current Progress: 300/1875, Train Loss: 0.477879\n",
      "Current Epoch: 13/20, Current Progress: 600/1875, Train Loss: 0.476072\n",
      "Current Epoch: 13/20, Current Progress: 900/1875, Train Loss: 0.482325\n",
      "Current Epoch: 13/20, Current Progress: 1200/1875, Train Loss: 0.487494\n",
      "Current Epoch: 13/20, Current Progress: 1500/1875, Train Loss: 0.490109\n",
      "Current Epoch: 13/20, Current Progress: 1800/1875, Train Loss: 0.491190\n",
      "Current Epoch: 13/20, Current Progress: 1875/1875, Train Loss: 0.492041\n"
     ]
    },
    {
     "name": "stderr",
     "output_type": "stream",
     "text": [
      "\r",
      " 65%|█████████████████████████████████████████████████████▎                            | 13/20 [09:03<04:58, 42.67s/it]"
     ]
    },
    {
     "name": "stdout",
     "output_type": "stream",
     "text": [
      "Current Epoch: 13/20, Test Loss: 0.416652, Test Accuracy: 84.764 %\n",
      "Current Epoch: 14/20, Current Progress: 300/1875, Train Loss: 0.490377\n",
      "Current Epoch: 14/20, Current Progress: 600/1875, Train Loss: 0.490466\n",
      "Current Epoch: 14/20, Current Progress: 900/1875, Train Loss: 0.494330\n",
      "Current Epoch: 14/20, Current Progress: 1200/1875, Train Loss: 0.489671\n",
      "Current Epoch: 14/20, Current Progress: 1500/1875, Train Loss: 0.486172\n",
      "Current Epoch: 14/20, Current Progress: 1800/1875, Train Loss: 0.483785\n",
      "Current Epoch: 14/20, Current Progress: 1875/1875, Train Loss: 0.482677\n"
     ]
    },
    {
     "name": "stderr",
     "output_type": "stream",
     "text": [
      "\r",
      " 70%|█████████████████████████████████████████████████████████▍                        | 14/20 [09:47<04:18, 43.13s/it]"
     ]
    },
    {
     "name": "stdout",
     "output_type": "stream",
     "text": [
      "Current Epoch: 14/20, Test Loss: 0.423122, Test Accuracy: 84.864 %\n",
      "Current Epoch: 15/20, Current Progress: 300/1875, Train Loss: 0.492102\n",
      "Current Epoch: 15/20, Current Progress: 600/1875, Train Loss: 0.490959\n",
      "Current Epoch: 15/20, Current Progress: 900/1875, Train Loss: 0.489731\n",
      "Current Epoch: 15/20, Current Progress: 1200/1875, Train Loss: 0.488436\n",
      "Current Epoch: 15/20, Current Progress: 1500/1875, Train Loss: 0.484417\n",
      "Current Epoch: 15/20, Current Progress: 1800/1875, Train Loss: 0.485917\n",
      "Current Epoch: 15/20, Current Progress: 1875/1875, Train Loss: 0.487460\n"
     ]
    },
    {
     "name": "stderr",
     "output_type": "stream",
     "text": [
      "\r",
      " 75%|█████████████████████████████████████████████████████████████▌                    | 15/20 [10:32<03:37, 43.54s/it]"
     ]
    },
    {
     "name": "stdout",
     "output_type": "stream",
     "text": [
      "Current Epoch: 15/20, Test Loss: 0.419824, Test Accuracy: 84.974 %\n",
      "Current Epoch: 16/20, Current Progress: 300/1875, Train Loss: 0.489728\n",
      "Current Epoch: 16/20, Current Progress: 600/1875, Train Loss: 0.483661\n",
      "Current Epoch: 16/20, Current Progress: 900/1875, Train Loss: 0.474241\n",
      "Current Epoch: 16/20, Current Progress: 1200/1875, Train Loss: 0.479283\n",
      "Current Epoch: 16/20, Current Progress: 1500/1875, Train Loss: 0.479862\n",
      "Current Epoch: 16/20, Current Progress: 1800/1875, Train Loss: 0.482429\n",
      "Current Epoch: 16/20, Current Progress: 1875/1875, Train Loss: 0.482197\n"
     ]
    },
    {
     "name": "stderr",
     "output_type": "stream",
     "text": [
      "\r",
      " 80%|█████████████████████████████████████████████████████████████████▌                | 16/20 [11:16<02:55, 43.77s/it]"
     ]
    },
    {
     "name": "stdout",
     "output_type": "stream",
     "text": [
      "Current Epoch: 16/20, Test Loss: 0.409311, Test Accuracy: 85.254 %\n",
      "Validation loss decreased (0.415750 --> 0.409311). Saving model ...\n",
      "Current Epoch: 17/20, Current Progress: 300/1875, Train Loss: 0.473899\n",
      "Current Epoch: 17/20, Current Progress: 600/1875, Train Loss: 0.481284\n",
      "Current Epoch: 17/20, Current Progress: 900/1875, Train Loss: 0.481458\n",
      "Current Epoch: 17/20, Current Progress: 1200/1875, Train Loss: 0.478906\n",
      "Current Epoch: 17/20, Current Progress: 1500/1875, Train Loss: 0.476713\n",
      "Current Epoch: 17/20, Current Progress: 1800/1875, Train Loss: 0.478989\n",
      "Current Epoch: 17/20, Current Progress: 1875/1875, Train Loss: 0.478940\n"
     ]
    },
    {
     "name": "stderr",
     "output_type": "stream",
     "text": [
      "\r",
      " 85%|█████████████████████████████████████████████████████████████████████▋            | 17/20 [12:01<02:11, 43.97s/it]"
     ]
    },
    {
     "name": "stdout",
     "output_type": "stream",
     "text": [
      "Current Epoch: 17/20, Test Loss: 0.402226, Test Accuracy: 85.653 %\n",
      "Validation loss decreased (0.409311 --> 0.402226). Saving model ...\n",
      "Current Epoch: 18/20, Current Progress: 300/1875, Train Loss: 0.452628\n",
      "Current Epoch: 18/20, Current Progress: 600/1875, Train Loss: 0.470457\n",
      "Current Epoch: 18/20, Current Progress: 900/1875, Train Loss: 0.472051\n",
      "Current Epoch: 18/20, Current Progress: 1200/1875, Train Loss: 0.479286\n",
      "Current Epoch: 18/20, Current Progress: 1500/1875, Train Loss: 0.476368\n",
      "Current Epoch: 18/20, Current Progress: 1800/1875, Train Loss: 0.474995\n",
      "Current Epoch: 18/20, Current Progress: 1875/1875, Train Loss: 0.474951\n"
     ]
    },
    {
     "name": "stderr",
     "output_type": "stream",
     "text": [
      "\r",
      " 90%|█████████████████████████████████████████████████████████████████████████▊        | 18/20 [12:40<01:24, 42.49s/it]"
     ]
    },
    {
     "name": "stdout",
     "output_type": "stream",
     "text": [
      "Current Epoch: 18/20, Test Loss: 0.410445, Test Accuracy: 85.094 %\n",
      "Current Epoch: 19/20, Current Progress: 300/1875, Train Loss: 0.453824\n",
      "Current Epoch: 19/20, Current Progress: 600/1875, Train Loss: 0.456928\n",
      "Current Epoch: 19/20, Current Progress: 900/1875, Train Loss: 0.470072\n",
      "Current Epoch: 19/20, Current Progress: 1200/1875, Train Loss: 0.475132\n",
      "Current Epoch: 19/20, Current Progress: 1500/1875, Train Loss: 0.472739\n",
      "Current Epoch: 19/20, Current Progress: 1800/1875, Train Loss: 0.473244\n",
      "Current Epoch: 19/20, Current Progress: 1875/1875, Train Loss: 0.473767\n"
     ]
    },
    {
     "name": "stderr",
     "output_type": "stream",
     "text": [
      "\r",
      " 95%|█████████████████████████████████████████████████████████████████████████████▉    | 19/20 [13:23<00:42, 42.84s/it]"
     ]
    },
    {
     "name": "stdout",
     "output_type": "stream",
     "text": [
      "Current Epoch: 19/20, Test Loss: 0.408350, Test Accuracy: 85.274 %\n",
      "Current Epoch: 20/20, Current Progress: 300/1875, Train Loss: 0.492023\n",
      "Current Epoch: 20/20, Current Progress: 600/1875, Train Loss: 0.478489\n",
      "Current Epoch: 20/20, Current Progress: 900/1875, Train Loss: 0.475283\n",
      "Current Epoch: 20/20, Current Progress: 1200/1875, Train Loss: 0.480168\n",
      "Current Epoch: 20/20, Current Progress: 1500/1875, Train Loss: 0.477709\n",
      "Current Epoch: 20/20, Current Progress: 1800/1875, Train Loss: 0.476248\n",
      "Current Epoch: 20/20, Current Progress: 1875/1875, Train Loss: 0.475674\n"
     ]
    },
    {
     "name": "stderr",
     "output_type": "stream",
     "text": [
      "100%|██████████████████████████████████████████████████████████████████████████████████| 20/20 [14:08<00:00, 42.41s/it]\n",
      "  0%|                                                                                           | 0/20 [00:00<?, ?it/s]"
     ]
    },
    {
     "name": "stdout",
     "output_type": "stream",
     "text": [
      "Current Epoch: 20/20, Test Loss: 0.411095, Test Accuracy: 85.234 %\n",
      "Current Epoch: 1/20, Current Progress: 300/1875, Train Loss: 1.589546\n",
      "Current Epoch: 1/20, Current Progress: 600/1875, Train Loss: 1.427875\n",
      "Current Epoch: 1/20, Current Progress: 900/1875, Train Loss: 1.347459\n",
      "Current Epoch: 1/20, Current Progress: 1200/1875, Train Loss: 1.304280\n",
      "Current Epoch: 1/20, Current Progress: 1500/1875, Train Loss: 1.270460\n",
      "Current Epoch: 1/20, Current Progress: 1800/1875, Train Loss: 1.243058\n",
      "Current Epoch: 1/20, Current Progress: 1875/1875, Train Loss: 1.236874\n"
     ]
    },
    {
     "name": "stderr",
     "output_type": "stream",
     "text": [
      "\r",
      "  5%|████▏                                                                              | 1/20 [01:31<28:56, 91.42s/it]"
     ]
    },
    {
     "name": "stdout",
     "output_type": "stream",
     "text": [
      "Current Epoch: 1/20, Test Loss: 1.116953, Test Accuracy: 56.470 %\n",
      "Validation loss decreased (inf --> 1.116953). Saving model ...\n",
      "Current Epoch: 2/20, Current Progress: 300/1875, Train Loss: 1.082440\n",
      "Current Epoch: 2/20, Current Progress: 600/1875, Train Loss: 1.083312\n",
      "Current Epoch: 2/20, Current Progress: 900/1875, Train Loss: 1.077457\n",
      "Current Epoch: 2/20, Current Progress: 1200/1875, Train Loss: 1.071556\n",
      "Current Epoch: 2/20, Current Progress: 1500/1875, Train Loss: 1.064176\n",
      "Current Epoch: 2/20, Current Progress: 1800/1875, Train Loss: 1.063218\n",
      "Current Epoch: 2/20, Current Progress: 1875/1875, Train Loss: 1.062966\n"
     ]
    },
    {
     "name": "stderr",
     "output_type": "stream",
     "text": [
      "\r",
      " 10%|████████▎                                                                          | 2/20 [02:59<27:08, 90.45s/it]"
     ]
    },
    {
     "name": "stdout",
     "output_type": "stream",
     "text": [
      "Current Epoch: 2/20, Test Loss: 1.060688, Test Accuracy: 58.466 %\n",
      "Validation loss decreased (1.116953 --> 1.060688). Saving model ...\n",
      "Current Epoch: 3/20, Current Progress: 300/1875, Train Loss: 1.029575\n",
      "Current Epoch: 3/20, Current Progress: 600/1875, Train Loss: 1.019673\n",
      "Current Epoch: 3/20, Current Progress: 900/1875, Train Loss: 1.017164\n",
      "Current Epoch: 3/20, Current Progress: 1200/1875, Train Loss: 1.016491\n",
      "Current Epoch: 3/20, Current Progress: 1500/1875, Train Loss: 1.012752\n",
      "Current Epoch: 3/20, Current Progress: 1800/1875, Train Loss: 1.009329\n",
      "Current Epoch: 3/20, Current Progress: 1875/1875, Train Loss: 1.008308\n"
     ]
    },
    {
     "name": "stderr",
     "output_type": "stream",
     "text": [
      "\r",
      " 15%|████████████▍                                                                      | 3/20 [04:30<25:42, 90.73s/it]"
     ]
    },
    {
     "name": "stdout",
     "output_type": "stream",
     "text": [
      "Current Epoch: 3/20, Test Loss: 1.004157, Test Accuracy: 59.974 %\n",
      "Validation loss decreased (1.060688 --> 1.004157). Saving model ...\n",
      "Current Epoch: 4/20, Current Progress: 300/1875, Train Loss: 0.979111\n",
      "Current Epoch: 4/20, Current Progress: 600/1875, Train Loss: 0.968766\n",
      "Current Epoch: 4/20, Current Progress: 900/1875, Train Loss: 0.947230\n",
      "Current Epoch: 4/20, Current Progress: 1200/1875, Train Loss: 0.931200\n",
      "Current Epoch: 4/20, Current Progress: 1500/1875, Train Loss: 0.920682\n",
      "Current Epoch: 4/20, Current Progress: 1800/1875, Train Loss: 0.911383\n",
      "Current Epoch: 4/20, Current Progress: 1875/1875, Train Loss: 0.908484\n"
     ]
    },
    {
     "name": "stderr",
     "output_type": "stream",
     "text": [
      "\r",
      " 20%|████████████████▌                                                                  | 4/20 [06:05<24:27, 91.73s/it]"
     ]
    },
    {
     "name": "stdout",
     "output_type": "stream",
     "text": [
      "Current Epoch: 4/20, Test Loss: 0.874702, Test Accuracy: 66.074 %\n",
      "Validation loss decreased (1.004157 --> 0.874702). Saving model ...\n",
      "Current Epoch: 5/20, Current Progress: 300/1875, Train Loss: 0.841757\n",
      "Current Epoch: 5/20, Current Progress: 600/1875, Train Loss: 0.842848\n",
      "Current Epoch: 5/20, Current Progress: 900/1875, Train Loss: 0.845943\n",
      "Current Epoch: 5/20, Current Progress: 1200/1875, Train Loss: 0.849762\n",
      "Current Epoch: 5/20, Current Progress: 1500/1875, Train Loss: 0.846269\n",
      "Current Epoch: 5/20, Current Progress: 1800/1875, Train Loss: 0.845216\n",
      "Current Epoch: 5/20, Current Progress: 1875/1875, Train Loss: 0.843939\n"
     ]
    },
    {
     "name": "stderr",
     "output_type": "stream",
     "text": [
      "\r",
      " 25%|████████████████████▊                                                              | 5/20 [07:36<22:54, 91.60s/it]"
     ]
    },
    {
     "name": "stdout",
     "output_type": "stream",
     "text": [
      "Current Epoch: 5/20, Test Loss: 0.863314, Test Accuracy: 66.733 %\n",
      "Validation loss decreased (0.874702 --> 0.863314). Saving model ...\n",
      "Current Epoch: 6/20, Current Progress: 300/1875, Train Loss: 0.823531\n",
      "Current Epoch: 6/20, Current Progress: 600/1875, Train Loss: 0.814980\n",
      "Current Epoch: 6/20, Current Progress: 900/1875, Train Loss: 0.813000\n",
      "Current Epoch: 6/20, Current Progress: 1200/1875, Train Loss: 0.806303\n",
      "Current Epoch: 6/20, Current Progress: 1500/1875, Train Loss: 0.801453\n",
      "Current Epoch: 6/20, Current Progress: 1800/1875, Train Loss: 0.801086\n",
      "Current Epoch: 6/20, Current Progress: 1875/1875, Train Loss: 0.798531\n"
     ]
    },
    {
     "name": "stderr",
     "output_type": "stream",
     "text": [
      "\r",
      " 30%|████████████████████████▉                                                          | 6/20 [09:13<21:43, 93.13s/it]"
     ]
    },
    {
     "name": "stdout",
     "output_type": "stream",
     "text": [
      "Current Epoch: 6/20, Test Loss: 0.822658, Test Accuracy: 69.519 %\n",
      "Validation loss decreased (0.863314 --> 0.822658). Saving model ...\n",
      "Current Epoch: 7/20, Current Progress: 300/1875, Train Loss: 0.768350\n",
      "Current Epoch: 7/20, Current Progress: 600/1875, Train Loss: 0.766610\n",
      "Current Epoch: 7/20, Current Progress: 900/1875, Train Loss: 0.767646\n",
      "Current Epoch: 7/20, Current Progress: 1200/1875, Train Loss: 0.766309\n",
      "Current Epoch: 7/20, Current Progress: 1500/1875, Train Loss: 0.770051\n",
      "Current Epoch: 7/20, Current Progress: 1800/1875, Train Loss: 0.766726\n",
      "Current Epoch: 7/20, Current Progress: 1875/1875, Train Loss: 0.764822\n"
     ]
    },
    {
     "name": "stderr",
     "output_type": "stream",
     "text": [
      "\r",
      " 35%|█████████████████████████████                                                      | 7/20 [10:42<19:55, 91.99s/it]"
     ]
    },
    {
     "name": "stdout",
     "output_type": "stream",
     "text": [
      "Current Epoch: 7/20, Test Loss: 0.781320, Test Accuracy: 70.966 %\n",
      "Validation loss decreased (0.822658 --> 0.781320). Saving model ...\n",
      "Current Epoch: 8/20, Current Progress: 300/1875, Train Loss: 0.734939\n",
      "Current Epoch: 8/20, Current Progress: 600/1875, Train Loss: 0.741704\n",
      "Current Epoch: 8/20, Current Progress: 900/1875, Train Loss: 0.737031\n",
      "Current Epoch: 8/20, Current Progress: 1200/1875, Train Loss: 0.737567\n",
      "Current Epoch: 8/20, Current Progress: 1500/1875, Train Loss: 0.739069\n",
      "Current Epoch: 8/20, Current Progress: 1800/1875, Train Loss: 0.738924\n",
      "Current Epoch: 8/20, Current Progress: 1875/1875, Train Loss: 0.739230\n"
     ]
    },
    {
     "name": "stderr",
     "output_type": "stream",
     "text": [
      "\r",
      " 40%|█████████████████████████████████▏                                                 | 8/20 [12:23<18:57, 94.82s/it]"
     ]
    },
    {
     "name": "stdout",
     "output_type": "stream",
     "text": [
      "Current Epoch: 8/20, Test Loss: 0.760043, Test Accuracy: 72.334 %\n",
      "Validation loss decreased (0.781320 --> 0.760043). Saving model ...\n",
      "Current Epoch: 9/20, Current Progress: 300/1875, Train Loss: 0.729083\n",
      "Current Epoch: 9/20, Current Progress: 600/1875, Train Loss: 0.729965\n",
      "Current Epoch: 9/20, Current Progress: 900/1875, Train Loss: 0.730633\n",
      "Current Epoch: 9/20, Current Progress: 1200/1875, Train Loss: 0.732300\n",
      "Current Epoch: 9/20, Current Progress: 1500/1875, Train Loss: 0.732178\n",
      "Current Epoch: 9/20, Current Progress: 1800/1875, Train Loss: 0.729669\n",
      "Current Epoch: 9/20, Current Progress: 1875/1875, Train Loss: 0.729499\n"
     ]
    },
    {
     "name": "stderr",
     "output_type": "stream",
     "text": [
      "\r",
      " 45%|█████████████████████████████████████▎                                             | 9/20 [14:05<17:46, 96.97s/it]"
     ]
    },
    {
     "name": "stdout",
     "output_type": "stream",
     "text": [
      "Current Epoch: 9/20, Test Loss: 0.776031, Test Accuracy: 71.995 %\n",
      "Current Epoch: 10/20, Current Progress: 300/1875, Train Loss: 0.707989\n",
      "Current Epoch: 10/20, Current Progress: 600/1875, Train Loss: 0.719475\n",
      "Current Epoch: 10/20, Current Progress: 900/1875, Train Loss: 0.715609\n",
      "Current Epoch: 10/20, Current Progress: 1200/1875, Train Loss: 0.713654\n",
      "Current Epoch: 10/20, Current Progress: 1500/1875, Train Loss: 0.714721\n",
      "Current Epoch: 10/20, Current Progress: 1800/1875, Train Loss: 0.715062\n",
      "Current Epoch: 10/20, Current Progress: 1875/1875, Train Loss: 0.715325\n"
     ]
    },
    {
     "name": "stderr",
     "output_type": "stream",
     "text": [
      "\r",
      " 50%|█████████████████████████████████████████                                         | 10/20 [15:22<15:08, 90.85s/it]"
     ]
    },
    {
     "name": "stdout",
     "output_type": "stream",
     "text": [
      "Current Epoch: 10/20, Test Loss: 0.770449, Test Accuracy: 72.065 %\n",
      "Current Epoch: 11/20, Current Progress: 300/1875, Train Loss: 0.709059\n",
      "Current Epoch: 11/20, Current Progress: 600/1875, Train Loss: 0.720104\n",
      "Current Epoch: 11/20, Current Progress: 900/1875, Train Loss: 0.711177\n",
      "Current Epoch: 11/20, Current Progress: 1200/1875, Train Loss: 0.708754\n",
      "Current Epoch: 11/20, Current Progress: 1500/1875, Train Loss: 0.706564\n",
      "Current Epoch: 11/20, Current Progress: 1800/1875, Train Loss: 0.702504\n",
      "Current Epoch: 11/20, Current Progress: 1875/1875, Train Loss: 0.699434\n"
     ]
    },
    {
     "name": "stderr",
     "output_type": "stream",
     "text": [
      "\r",
      " 55%|█████████████████████████████████████████████                                     | 11/20 [16:54<13:42, 91.37s/it]"
     ]
    },
    {
     "name": "stdout",
     "output_type": "stream",
     "text": [
      "Current Epoch: 11/20, Test Loss: 0.729296, Test Accuracy: 74.611 %\n",
      "Validation loss decreased (0.760043 --> 0.729296). Saving model ...\n",
      "Current Epoch: 12/20, Current Progress: 300/1875, Train Loss: 0.677223\n",
      "Current Epoch: 12/20, Current Progress: 600/1875, Train Loss: 0.673254\n",
      "Current Epoch: 12/20, Current Progress: 900/1875, Train Loss: 0.669340\n",
      "Current Epoch: 12/20, Current Progress: 1200/1875, Train Loss: 0.664905\n",
      "Current Epoch: 12/20, Current Progress: 1500/1875, Train Loss: 0.661143\n",
      "Current Epoch: 12/20, Current Progress: 1800/1875, Train Loss: 0.661196\n",
      "Current Epoch: 12/20, Current Progress: 1875/1875, Train Loss: 0.660572\n"
     ]
    },
    {
     "name": "stderr",
     "output_type": "stream",
     "text": [
      "\r",
      " 60%|█████████████████████████████████████████████████▏                                | 12/20 [18:36<12:34, 94.33s/it]"
     ]
    },
    {
     "name": "stdout",
     "output_type": "stream",
     "text": [
      "Current Epoch: 12/20, Test Loss: 0.712166, Test Accuracy: 73.832 %\n",
      "Validation loss decreased (0.729296 --> 0.712166). Saving model ...\n",
      "Current Epoch: 13/20, Current Progress: 300/1875, Train Loss: 0.640537\n",
      "Current Epoch: 13/20, Current Progress: 600/1875, Train Loss: 0.643150\n",
      "Current Epoch: 13/20, Current Progress: 900/1875, Train Loss: 0.641379\n",
      "Current Epoch: 13/20, Current Progress: 1200/1875, Train Loss: 0.643683\n",
      "Current Epoch: 13/20, Current Progress: 1500/1875, Train Loss: 0.644979\n",
      "Current Epoch: 13/20, Current Progress: 1800/1875, Train Loss: 0.645296\n",
      "Current Epoch: 13/20, Current Progress: 1875/1875, Train Loss: 0.644753\n"
     ]
    },
    {
     "name": "stderr",
     "output_type": "stream",
     "text": [
      "\r",
      " 65%|█████████████████████████████████████████████████████▎                            | 13/20 [20:07<10:53, 93.41s/it]"
     ]
    },
    {
     "name": "stdout",
     "output_type": "stream",
     "text": [
      "Current Epoch: 13/20, Test Loss: 0.719393, Test Accuracy: 73.462 %\n",
      "Current Epoch: 14/20, Current Progress: 300/1875, Train Loss: 0.641030\n",
      "Current Epoch: 14/20, Current Progress: 600/1875, Train Loss: 0.643047\n",
      "Current Epoch: 14/20, Current Progress: 900/1875, Train Loss: 0.633005\n",
      "Current Epoch: 14/20, Current Progress: 1200/1875, Train Loss: 0.636427\n",
      "Current Epoch: 14/20, Current Progress: 1500/1875, Train Loss: 0.640519\n",
      "Current Epoch: 14/20, Current Progress: 1800/1875, Train Loss: 0.641769\n",
      "Current Epoch: 14/20, Current Progress: 1875/1875, Train Loss: 0.641616\n"
     ]
    },
    {
     "name": "stderr",
     "output_type": "stream",
     "text": [
      "\r",
      " 70%|█████████████████████████████████████████████████████████▍                        | 14/20 [21:37<09:14, 92.41s/it]"
     ]
    },
    {
     "name": "stdout",
     "output_type": "stream",
     "text": [
      "Current Epoch: 14/20, Test Loss: 0.692563, Test Accuracy: 74.111 %\n",
      "Validation loss decreased (0.712166 --> 0.692563). Saving model ...\n",
      "Current Epoch: 15/20, Current Progress: 300/1875, Train Loss: 0.637243\n",
      "Current Epoch: 15/20, Current Progress: 600/1875, Train Loss: 0.633490\n",
      "Current Epoch: 15/20, Current Progress: 900/1875, Train Loss: 0.630903\n",
      "Current Epoch: 15/20, Current Progress: 1200/1875, Train Loss: 0.631149\n",
      "Current Epoch: 15/20, Current Progress: 1500/1875, Train Loss: 0.632931\n",
      "Current Epoch: 15/20, Current Progress: 1800/1875, Train Loss: 0.633386\n",
      "Current Epoch: 15/20, Current Progress: 1875/1875, Train Loss: 0.633552\n"
     ]
    },
    {
     "name": "stderr",
     "output_type": "stream",
     "text": [
      "\r",
      " 75%|█████████████████████████████████████████████████████████████▌                    | 15/20 [23:05<07:35, 91.02s/it]"
     ]
    },
    {
     "name": "stdout",
     "output_type": "stream",
     "text": [
      "Current Epoch: 15/20, Test Loss: 0.688788, Test Accuracy: 74.740 %\n",
      "Validation loss decreased (0.692563 --> 0.688788). Saving model ...\n",
      "Current Epoch: 16/20, Current Progress: 300/1875, Train Loss: 0.629003\n",
      "Current Epoch: 16/20, Current Progress: 600/1875, Train Loss: 0.633624\n",
      "Current Epoch: 16/20, Current Progress: 900/1875, Train Loss: 0.631138\n",
      "Current Epoch: 16/20, Current Progress: 1200/1875, Train Loss: 0.628754\n",
      "Current Epoch: 16/20, Current Progress: 1500/1875, Train Loss: 0.624973\n",
      "Current Epoch: 16/20, Current Progress: 1800/1875, Train Loss: 0.623513\n",
      "Current Epoch: 16/20, Current Progress: 1875/1875, Train Loss: 0.623020\n"
     ]
    },
    {
     "name": "stderr",
     "output_type": "stream",
     "text": [
      "\r",
      " 80%|█████████████████████████████████████████████████████████████████▌                | 16/20 [24:35<06:02, 90.65s/it]"
     ]
    },
    {
     "name": "stdout",
     "output_type": "stream",
     "text": [
      "Current Epoch: 16/20, Test Loss: 0.707104, Test Accuracy: 74.361 %\n",
      "Current Epoch: 17/20, Current Progress: 300/1875, Train Loss: 0.629377\n",
      "Current Epoch: 17/20, Current Progress: 600/1875, Train Loss: 0.626510\n",
      "Current Epoch: 17/20, Current Progress: 900/1875, Train Loss: 0.622151\n",
      "Current Epoch: 17/20, Current Progress: 1200/1875, Train Loss: 0.621514\n",
      "Current Epoch: 17/20, Current Progress: 1500/1875, Train Loss: 0.619474\n",
      "Current Epoch: 17/20, Current Progress: 1800/1875, Train Loss: 0.618951\n",
      "Current Epoch: 17/20, Current Progress: 1875/1875, Train Loss: 0.620376\n"
     ]
    },
    {
     "name": "stderr",
     "output_type": "stream",
     "text": [
      "\r",
      " 85%|█████████████████████████████████████████████████████████████████████▋            | 17/20 [26:12<04:37, 92.66s/it]"
     ]
    },
    {
     "name": "stdout",
     "output_type": "stream",
     "text": [
      "Current Epoch: 17/20, Test Loss: 0.703926, Test Accuracy: 74.461 %\n",
      "Current Epoch: 18/20, Current Progress: 300/1875, Train Loss: 0.616183\n",
      "Current Epoch: 18/20, Current Progress: 600/1875, Train Loss: 0.618994\n",
      "Current Epoch: 18/20, Current Progress: 900/1875, Train Loss: 0.610705\n",
      "Current Epoch: 18/20, Current Progress: 1200/1875, Train Loss: 0.609958\n",
      "Current Epoch: 18/20, Current Progress: 1500/1875, Train Loss: 0.606524\n",
      "Current Epoch: 18/20, Current Progress: 1800/1875, Train Loss: 0.603315\n",
      "Current Epoch: 18/20, Current Progress: 1875/1875, Train Loss: 0.603236\n"
     ]
    },
    {
     "name": "stderr",
     "output_type": "stream",
     "text": [
      "\r",
      " 90%|█████████████████████████████████████████████████████████████████████████▊        | 18/20 [27:50<03:08, 94.35s/it]"
     ]
    },
    {
     "name": "stdout",
     "output_type": "stream",
     "text": [
      "Current Epoch: 18/20, Test Loss: 0.682832, Test Accuracy: 75.899 %\n",
      "Validation loss decreased (0.688788 --> 0.682832). Saving model ...\n",
      "Current Epoch: 19/20, Current Progress: 300/1875, Train Loss: 0.584691\n",
      "Current Epoch: 19/20, Current Progress: 600/1875, Train Loss: 0.579716\n",
      "Current Epoch: 19/20, Current Progress: 900/1875, Train Loss: 0.577355\n",
      "Current Epoch: 19/20, Current Progress: 1200/1875, Train Loss: 0.574668\n",
      "Current Epoch: 19/20, Current Progress: 1500/1875, Train Loss: 0.573142\n",
      "Current Epoch: 19/20, Current Progress: 1800/1875, Train Loss: 0.571504\n",
      "Current Epoch: 19/20, Current Progress: 1875/1875, Train Loss: 0.571057\n"
     ]
    },
    {
     "name": "stderr",
     "output_type": "stream",
     "text": [
      "\r",
      " 95%|█████████████████████████████████████████████████████████████████████████████▉    | 19/20 [29:30<01:36, 96.06s/it]"
     ]
    },
    {
     "name": "stdout",
     "output_type": "stream",
     "text": [
      "Current Epoch: 19/20, Test Loss: 0.664885, Test Accuracy: 77.216 %\n",
      "Validation loss decreased (0.682832 --> 0.664885). Saving model ...\n",
      "Current Epoch: 20/20, Current Progress: 300/1875, Train Loss: 0.566979\n",
      "Current Epoch: 20/20, Current Progress: 600/1875, Train Loss: 0.570457\n",
      "Current Epoch: 20/20, Current Progress: 900/1875, Train Loss: 0.571309\n",
      "Current Epoch: 20/20, Current Progress: 1200/1875, Train Loss: 0.573996\n",
      "Current Epoch: 20/20, Current Progress: 1500/1875, Train Loss: 0.573015\n",
      "Current Epoch: 20/20, Current Progress: 1800/1875, Train Loss: 0.572017\n",
      "Current Epoch: 20/20, Current Progress: 1875/1875, Train Loss: 0.572057\n"
     ]
    },
    {
     "name": "stderr",
     "output_type": "stream",
     "text": [
      "100%|██████████████████████████████████████████████████████████████████████████████████| 20/20 [31:14<00:00, 93.72s/it]\n",
      "  0%|                                                                                           | 0/20 [00:00<?, ?it/s]"
     ]
    },
    {
     "name": "stdout",
     "output_type": "stream",
     "text": [
      "Current Epoch: 20/20, Test Loss: 0.664748, Test Accuracy: 76.977 %\n",
      "Validation loss decreased (0.664885 --> 0.664748). Saving model ...\n",
      "Current Epoch: 1/20, Current Progress: 300/1875, Train Loss: 1.219190\n",
      "Current Epoch: 1/20, Current Progress: 600/1875, Train Loss: 1.060086\n",
      "Current Epoch: 1/20, Current Progress: 900/1875, Train Loss: 0.988843\n",
      "Current Epoch: 1/20, Current Progress: 1200/1875, Train Loss: 0.940872\n",
      "Current Epoch: 1/20, Current Progress: 1500/1875, Train Loss: 0.909301\n",
      "Current Epoch: 1/20, Current Progress: 1800/1875, Train Loss: 0.886870\n",
      "Current Epoch: 1/20, Current Progress: 1875/1875, Train Loss: 0.881979\n"
     ]
    },
    {
     "name": "stderr",
     "output_type": "stream",
     "text": [
      "\r",
      "  5%|████▏                                                                              | 1/20 [01:35<30:22, 95.90s/it]"
     ]
    },
    {
     "name": "stdout",
     "output_type": "stream",
     "text": [
      "Current Epoch: 1/20, Test Loss: 0.439153, Test Accuracy: 84.864 %\n",
      "Validation loss decreased (inf --> 0.439153). Saving model ...\n",
      "Current Epoch: 2/20, Current Progress: 300/1875, Train Loss: 0.741005\n",
      "Current Epoch: 2/20, Current Progress: 600/1875, Train Loss: 0.744184\n",
      "Current Epoch: 2/20, Current Progress: 900/1875, Train Loss: 0.739832\n",
      "Current Epoch: 2/20, Current Progress: 1200/1875, Train Loss: 0.729068\n",
      "Current Epoch: 2/20, Current Progress: 1500/1875, Train Loss: 0.723882\n",
      "Current Epoch: 2/20, Current Progress: 1800/1875, Train Loss: 0.718829\n",
      "Current Epoch: 2/20, Current Progress: 1875/1875, Train Loss: 0.717224\n"
     ]
    },
    {
     "name": "stderr",
     "output_type": "stream",
     "text": [
      "\r",
      " 10%|████████▎                                                                          | 2/20 [03:12<28:51, 96.19s/it]"
     ]
    },
    {
     "name": "stdout",
     "output_type": "stream",
     "text": [
      "Current Epoch: 2/20, Test Loss: 0.393000, Test Accuracy: 86.671 %\n",
      "Validation loss decreased (0.439153 --> 0.393000). Saving model ...\n",
      "Current Epoch: 3/20, Current Progress: 300/1875, Train Loss: 0.652881\n",
      "Current Epoch: 3/20, Current Progress: 600/1875, Train Loss: 0.659087\n",
      "Current Epoch: 3/20, Current Progress: 900/1875, Train Loss: 0.667298\n",
      "Current Epoch: 3/20, Current Progress: 1200/1875, Train Loss: 0.668170\n",
      "Current Epoch: 3/20, Current Progress: 1500/1875, Train Loss: 0.669204\n",
      "Current Epoch: 3/20, Current Progress: 1800/1875, Train Loss: 0.666180\n",
      "Current Epoch: 3/20, Current Progress: 1875/1875, Train Loss: 0.665536\n"
     ]
    },
    {
     "name": "stderr",
     "output_type": "stream",
     "text": [
      "\r",
      " 15%|████████████▍                                                                      | 3/20 [04:48<27:10, 95.93s/it]"
     ]
    },
    {
     "name": "stdout",
     "output_type": "stream",
     "text": [
      "Current Epoch: 3/20, Test Loss: 0.358499, Test Accuracy: 87.530 %\n",
      "Validation loss decreased (0.393000 --> 0.358499). Saving model ...\n",
      "Current Epoch: 4/20, Current Progress: 300/1875, Train Loss: 0.642499\n",
      "Current Epoch: 4/20, Current Progress: 600/1875, Train Loss: 0.647733\n",
      "Current Epoch: 4/20, Current Progress: 900/1875, Train Loss: 0.644783\n",
      "Current Epoch: 4/20, Current Progress: 1200/1875, Train Loss: 0.644505\n",
      "Current Epoch: 4/20, Current Progress: 1500/1875, Train Loss: 0.642091\n",
      "Current Epoch: 4/20, Current Progress: 1800/1875, Train Loss: 0.638753\n",
      "Current Epoch: 4/20, Current Progress: 1875/1875, Train Loss: 0.638618\n"
     ]
    },
    {
     "name": "stderr",
     "output_type": "stream",
     "text": [
      "\r",
      " 20%|████████████████▌                                                                  | 4/20 [06:16<24:56, 93.54s/it]"
     ]
    },
    {
     "name": "stdout",
     "output_type": "stream",
     "text": [
      "Current Epoch: 4/20, Test Loss: 0.351089, Test Accuracy: 88.019 %\n",
      "Validation loss decreased (0.358499 --> 0.351089). Saving model ...\n",
      "Current Epoch: 5/20, Current Progress: 300/1875, Train Loss: 0.607308\n",
      "Current Epoch: 5/20, Current Progress: 600/1875, Train Loss: 0.608249\n",
      "Current Epoch: 5/20, Current Progress: 900/1875, Train Loss: 0.603078\n",
      "Current Epoch: 5/20, Current Progress: 1200/1875, Train Loss: 0.595797\n",
      "Current Epoch: 5/20, Current Progress: 1500/1875, Train Loss: 0.595906\n",
      "Current Epoch: 5/20, Current Progress: 1800/1875, Train Loss: 0.594275\n",
      "Current Epoch: 5/20, Current Progress: 1875/1875, Train Loss: 0.594595\n"
     ]
    },
    {
     "name": "stderr",
     "output_type": "stream",
     "text": [
      "\r",
      " 25%|████████████████████▊                                                              | 5/20 [07:42<22:50, 91.39s/it]"
     ]
    },
    {
     "name": "stdout",
     "output_type": "stream",
     "text": [
      "Current Epoch: 5/20, Test Loss: 0.338357, Test Accuracy: 88.289 %\n",
      "Validation loss decreased (0.351089 --> 0.338357). Saving model ...\n",
      "Current Epoch: 6/20, Current Progress: 300/1875, Train Loss: 0.572535\n",
      "Current Epoch: 6/20, Current Progress: 600/1875, Train Loss: 0.574007\n",
      "Current Epoch: 6/20, Current Progress: 900/1875, Train Loss: 0.574841\n",
      "Current Epoch: 6/20, Current Progress: 1200/1875, Train Loss: 0.568949\n",
      "Current Epoch: 6/20, Current Progress: 1500/1875, Train Loss: 0.566632\n",
      "Current Epoch: 6/20, Current Progress: 1800/1875, Train Loss: 0.568858\n",
      "Current Epoch: 6/20, Current Progress: 1875/1875, Train Loss: 0.569598\n"
     ]
    },
    {
     "name": "stderr",
     "output_type": "stream",
     "text": [
      "\r",
      " 30%|████████████████████████▉                                                          | 6/20 [09:16<21:31, 92.22s/it]"
     ]
    },
    {
     "name": "stdout",
     "output_type": "stream",
     "text": [
      "Current Epoch: 6/20, Test Loss: 0.335788, Test Accuracy: 88.678 %\n",
      "Validation loss decreased (0.338357 --> 0.335788). Saving model ...\n",
      "Current Epoch: 7/20, Current Progress: 300/1875, Train Loss: 0.552306\n",
      "Current Epoch: 7/20, Current Progress: 600/1875, Train Loss: 0.549550\n",
      "Current Epoch: 7/20, Current Progress: 900/1875, Train Loss: 0.554197\n",
      "Current Epoch: 7/20, Current Progress: 1200/1875, Train Loss: 0.551714\n",
      "Current Epoch: 7/20, Current Progress: 1500/1875, Train Loss: 0.551555\n",
      "Current Epoch: 7/20, Current Progress: 1800/1875, Train Loss: 0.549214\n",
      "Current Epoch: 7/20, Current Progress: 1875/1875, Train Loss: 0.549607\n"
     ]
    },
    {
     "name": "stderr",
     "output_type": "stream",
     "text": [
      "\r",
      " 35%|█████████████████████████████                                                      | 7/20 [10:42<19:36, 90.47s/it]"
     ]
    },
    {
     "name": "stdout",
     "output_type": "stream",
     "text": [
      "Current Epoch: 7/20, Test Loss: 0.324802, Test Accuracy: 88.958 %\n",
      "Validation loss decreased (0.335788 --> 0.324802). Saving model ...\n",
      "Current Epoch: 8/20, Current Progress: 300/1875, Train Loss: 0.536270\n",
      "Current Epoch: 8/20, Current Progress: 600/1875, Train Loss: 0.533248\n",
      "Current Epoch: 8/20, Current Progress: 900/1875, Train Loss: 0.534174\n",
      "Current Epoch: 8/20, Current Progress: 1200/1875, Train Loss: 0.533150\n",
      "Current Epoch: 8/20, Current Progress: 1500/1875, Train Loss: 0.532104\n",
      "Current Epoch: 8/20, Current Progress: 1800/1875, Train Loss: 0.532234\n",
      "Current Epoch: 8/20, Current Progress: 1875/1875, Train Loss: 0.532587\n"
     ]
    },
    {
     "name": "stderr",
     "output_type": "stream",
     "text": [
      "\r",
      " 40%|█████████████████████████████████▏                                                 | 8/20 [12:03<17:30, 87.57s/it]"
     ]
    },
    {
     "name": "stdout",
     "output_type": "stream",
     "text": [
      "Current Epoch: 8/20, Test Loss: 0.336783, Test Accuracy: 88.748 %\n",
      "Current Epoch: 9/20, Current Progress: 300/1875, Train Loss: 0.540564\n",
      "Current Epoch: 9/20, Current Progress: 600/1875, Train Loss: 0.529606\n",
      "Current Epoch: 9/20, Current Progress: 900/1875, Train Loss: 0.525419\n",
      "Current Epoch: 9/20, Current Progress: 1200/1875, Train Loss: 0.527019\n",
      "Current Epoch: 9/20, Current Progress: 1500/1875, Train Loss: 0.525533\n",
      "Current Epoch: 9/20, Current Progress: 1800/1875, Train Loss: 0.525321\n",
      "Current Epoch: 9/20, Current Progress: 1875/1875, Train Loss: 0.523059\n"
     ]
    },
    {
     "name": "stderr",
     "output_type": "stream",
     "text": [
      "\r",
      " 45%|█████████████████████████████████████▎                                             | 9/20 [13:29<15:57, 87.07s/it]"
     ]
    },
    {
     "name": "stdout",
     "output_type": "stream",
     "text": [
      "Current Epoch: 9/20, Test Loss: 0.322819, Test Accuracy: 89.437 %\n",
      "Validation loss decreased (0.324802 --> 0.322819). Saving model ...\n",
      "Current Epoch: 10/20, Current Progress: 300/1875, Train Loss: 0.492597\n",
      "Current Epoch: 10/20, Current Progress: 600/1875, Train Loss: 0.502078\n",
      "Current Epoch: 10/20, Current Progress: 900/1875, Train Loss: 0.506256\n",
      "Current Epoch: 10/20, Current Progress: 1200/1875, Train Loss: 0.505362\n",
      "Current Epoch: 10/20, Current Progress: 1500/1875, Train Loss: 0.505720\n",
      "Current Epoch: 10/20, Current Progress: 1800/1875, Train Loss: 0.507609\n",
      "Current Epoch: 10/20, Current Progress: 1875/1875, Train Loss: 0.508528\n"
     ]
    },
    {
     "name": "stderr",
     "output_type": "stream",
     "text": [
      "\r",
      " 50%|█████████████████████████████████████████                                         | 10/20 [14:57<14:32, 87.28s/it]"
     ]
    },
    {
     "name": "stdout",
     "output_type": "stream",
     "text": [
      "Current Epoch: 10/20, Test Loss: 0.324330, Test Accuracy: 89.467 %\n",
      "Current Epoch: 11/20, Current Progress: 300/1875, Train Loss: 0.495502\n",
      "Current Epoch: 11/20, Current Progress: 600/1875, Train Loss: 0.491259\n",
      "Current Epoch: 11/20, Current Progress: 900/1875, Train Loss: 0.493040\n",
      "Current Epoch: 11/20, Current Progress: 1200/1875, Train Loss: 0.494660\n",
      "Current Epoch: 11/20, Current Progress: 1500/1875, Train Loss: 0.498762\n",
      "Current Epoch: 11/20, Current Progress: 1800/1875, Train Loss: 0.499065\n",
      "Current Epoch: 11/20, Current Progress: 1875/1875, Train Loss: 0.499554\n"
     ]
    },
    {
     "name": "stderr",
     "output_type": "stream",
     "text": [
      "\r",
      " 55%|█████████████████████████████████████████████                                     | 11/20 [16:27<13:14, 88.23s/it]"
     ]
    },
    {
     "name": "stdout",
     "output_type": "stream",
     "text": [
      "Current Epoch: 11/20, Test Loss: 0.309040, Test Accuracy: 89.217 %\n",
      "Validation loss decreased (0.322819 --> 0.309040). Saving model ...\n",
      "Current Epoch: 12/20, Current Progress: 300/1875, Train Loss: 0.475934\n",
      "Current Epoch: 12/20, Current Progress: 600/1875, Train Loss: 0.485625\n",
      "Current Epoch: 12/20, Current Progress: 900/1875, Train Loss: 0.483014\n",
      "Current Epoch: 12/20, Current Progress: 1200/1875, Train Loss: 0.482667\n",
      "Current Epoch: 12/20, Current Progress: 1500/1875, Train Loss: 0.487417\n",
      "Current Epoch: 12/20, Current Progress: 1800/1875, Train Loss: 0.485516\n",
      "Current Epoch: 12/20, Current Progress: 1875/1875, Train Loss: 0.484560\n"
     ]
    },
    {
     "name": "stderr",
     "output_type": "stream",
     "text": [
      "\r",
      " 60%|█████████████████████████████████████████████████▏                                | 12/20 [18:00<11:55, 89.44s/it]"
     ]
    },
    {
     "name": "stdout",
     "output_type": "stream",
     "text": [
      "Current Epoch: 12/20, Test Loss: 0.308704, Test Accuracy: 89.497 %\n",
      "Validation loss decreased (0.309040 --> 0.308704). Saving model ...\n",
      "Current Epoch: 13/20, Current Progress: 300/1875, Train Loss: 0.479254\n",
      "Current Epoch: 13/20, Current Progress: 600/1875, Train Loss: 0.474867\n",
      "Current Epoch: 13/20, Current Progress: 900/1875, Train Loss: 0.477271\n",
      "Current Epoch: 13/20, Current Progress: 1200/1875, Train Loss: 0.481539\n",
      "Current Epoch: 13/20, Current Progress: 1500/1875, Train Loss: 0.481667\n",
      "Current Epoch: 13/20, Current Progress: 1800/1875, Train Loss: 0.484371\n",
      "Current Epoch: 13/20, Current Progress: 1875/1875, Train Loss: 0.484239\n"
     ]
    },
    {
     "name": "stderr",
     "output_type": "stream",
     "text": [
      "\r",
      " 65%|█████████████████████████████████████████████████████▎                            | 13/20 [19:32<10:32, 90.39s/it]"
     ]
    },
    {
     "name": "stdout",
     "output_type": "stream",
     "text": [
      "Current Epoch: 13/20, Test Loss: 0.310619, Test Accuracy: 89.587 %\n",
      "Current Epoch: 14/20, Current Progress: 300/1875, Train Loss: 0.475152\n",
      "Current Epoch: 14/20, Current Progress: 600/1875, Train Loss: 0.479169\n",
      "Current Epoch: 14/20, Current Progress: 900/1875, Train Loss: 0.481895\n",
      "Current Epoch: 14/20, Current Progress: 1200/1875, Train Loss: 0.481015\n",
      "Current Epoch: 14/20, Current Progress: 1500/1875, Train Loss: 0.477145\n",
      "Current Epoch: 14/20, Current Progress: 1800/1875, Train Loss: 0.480874\n",
      "Current Epoch: 14/20, Current Progress: 1875/1875, Train Loss: 0.480977\n"
     ]
    },
    {
     "name": "stderr",
     "output_type": "stream",
     "text": [
      "\r",
      " 70%|█████████████████████████████████████████████████████████▍                        | 14/20 [21:00<08:57, 89.55s/it]"
     ]
    },
    {
     "name": "stdout",
     "output_type": "stream",
     "text": [
      "Current Epoch: 14/20, Test Loss: 0.303473, Test Accuracy: 90.126 %\n",
      "Validation loss decreased (0.308704 --> 0.303473). Saving model ...\n",
      "Current Epoch: 15/20, Current Progress: 300/1875, Train Loss: 0.464369\n",
      "Current Epoch: 15/20, Current Progress: 600/1875, Train Loss: 0.468629\n",
      "Current Epoch: 15/20, Current Progress: 900/1875, Train Loss: 0.475385\n",
      "Current Epoch: 15/20, Current Progress: 1200/1875, Train Loss: 0.475573\n",
      "Current Epoch: 15/20, Current Progress: 1500/1875, Train Loss: 0.477729\n",
      "Current Epoch: 15/20, Current Progress: 1800/1875, Train Loss: 0.477602\n",
      "Current Epoch: 15/20, Current Progress: 1875/1875, Train Loss: 0.478393\n"
     ]
    },
    {
     "name": "stderr",
     "output_type": "stream",
     "text": [
      "\r",
      " 75%|█████████████████████████████████████████████████████████████▌                    | 15/20 [22:24<07:19, 87.88s/it]"
     ]
    },
    {
     "name": "stdout",
     "output_type": "stream",
     "text": [
      "Current Epoch: 15/20, Test Loss: 0.304262, Test Accuracy: 90.016 %\n",
      "Current Epoch: 16/20, Current Progress: 300/1875, Train Loss: 0.462163\n",
      "Current Epoch: 16/20, Current Progress: 600/1875, Train Loss: 0.462630\n",
      "Current Epoch: 16/20, Current Progress: 900/1875, Train Loss: 0.463968\n",
      "Current Epoch: 16/20, Current Progress: 1200/1875, Train Loss: 0.467940\n",
      "Current Epoch: 16/20, Current Progress: 1500/1875, Train Loss: 0.466116\n",
      "Current Epoch: 16/20, Current Progress: 1800/1875, Train Loss: 0.465593\n",
      "Current Epoch: 16/20, Current Progress: 1875/1875, Train Loss: 0.465930\n"
     ]
    },
    {
     "name": "stderr",
     "output_type": "stream",
     "text": [
      "\r",
      " 80%|█████████████████████████████████████████████████████████████████▌                | 16/20 [23:54<05:54, 88.51s/it]"
     ]
    },
    {
     "name": "stdout",
     "output_type": "stream",
     "text": [
      "Current Epoch: 16/20, Test Loss: 0.306609, Test Accuracy: 90.096 %\n",
      "Current Epoch: 17/20, Current Progress: 300/1875, Train Loss: 0.462819\n",
      "Current Epoch: 17/20, Current Progress: 600/1875, Train Loss: 0.461348\n",
      "Current Epoch: 17/20, Current Progress: 900/1875, Train Loss: 0.464724\n",
      "Current Epoch: 17/20, Current Progress: 1200/1875, Train Loss: 0.465532\n",
      "Current Epoch: 17/20, Current Progress: 1500/1875, Train Loss: 0.462300\n",
      "Current Epoch: 17/20, Current Progress: 1800/1875, Train Loss: 0.465808\n",
      "Current Epoch: 17/20, Current Progress: 1875/1875, Train Loss: 0.466227\n"
     ]
    },
    {
     "name": "stderr",
     "output_type": "stream",
     "text": [
      "\r",
      " 85%|█████████████████████████████████████████████████████████████████████▋            | 17/20 [25:27<04:30, 90.00s/it]"
     ]
    },
    {
     "name": "stdout",
     "output_type": "stream",
     "text": [
      "Current Epoch: 17/20, Test Loss: 0.300464, Test Accuracy: 89.816 %\n",
      "Validation loss decreased (0.303473 --> 0.300464). Saving model ...\n",
      "Current Epoch: 18/20, Current Progress: 300/1875, Train Loss: 0.457727\n",
      "Current Epoch: 18/20, Current Progress: 600/1875, Train Loss: 0.460586\n",
      "Current Epoch: 18/20, Current Progress: 900/1875, Train Loss: 0.462732\n",
      "Current Epoch: 18/20, Current Progress: 1200/1875, Train Loss: 0.464139\n",
      "Current Epoch: 18/20, Current Progress: 1500/1875, Train Loss: 0.464046\n",
      "Current Epoch: 18/20, Current Progress: 1800/1875, Train Loss: 0.462514\n",
      "Current Epoch: 18/20, Current Progress: 1875/1875, Train Loss: 0.463295\n"
     ]
    },
    {
     "name": "stderr",
     "output_type": "stream",
     "text": [
      "\r",
      " 90%|█████████████████████████████████████████████████████████████████████████▊        | 18/20 [26:59<03:01, 90.61s/it]"
     ]
    },
    {
     "name": "stdout",
     "output_type": "stream",
     "text": [
      "Current Epoch: 18/20, Test Loss: 0.316446, Test Accuracy: 89.547 %\n",
      "Current Epoch: 19/20, Current Progress: 300/1875, Train Loss: 0.459719\n",
      "Current Epoch: 19/20, Current Progress: 600/1875, Train Loss: 0.457438\n",
      "Current Epoch: 19/20, Current Progress: 900/1875, Train Loss: 0.458740\n",
      "Current Epoch: 19/20, Current Progress: 1200/1875, Train Loss: 0.457040\n",
      "Current Epoch: 19/20, Current Progress: 1500/1875, Train Loss: 0.454894\n",
      "Current Epoch: 19/20, Current Progress: 1800/1875, Train Loss: 0.453548\n",
      "Current Epoch: 19/20, Current Progress: 1875/1875, Train Loss: 0.452477\n"
     ]
    },
    {
     "name": "stderr",
     "output_type": "stream",
     "text": [
      "\r",
      " 95%|█████████████████████████████████████████████████████████████████████████████▉    | 19/20 [28:28<01:29, 89.88s/it]"
     ]
    },
    {
     "name": "stdout",
     "output_type": "stream",
     "text": [
      "Current Epoch: 19/20, Test Loss: 0.306444, Test Accuracy: 90.066 %\n",
      "Current Epoch: 20/20, Current Progress: 300/1875, Train Loss: 0.445832\n",
      "Current Epoch: 20/20, Current Progress: 600/1875, Train Loss: 0.446709\n",
      "Current Epoch: 20/20, Current Progress: 900/1875, Train Loss: 0.446749\n",
      "Current Epoch: 20/20, Current Progress: 1200/1875, Train Loss: 0.450090\n",
      "Current Epoch: 20/20, Current Progress: 1500/1875, Train Loss: 0.448936\n",
      "Current Epoch: 20/20, Current Progress: 1800/1875, Train Loss: 0.448370\n",
      "Current Epoch: 20/20, Current Progress: 1875/1875, Train Loss: 0.449182\n"
     ]
    },
    {
     "name": "stderr",
     "output_type": "stream",
     "text": [
      "100%|██████████████████████████████████████████████████████████████████████████████████| 20/20 [29:54<00:00, 89.70s/it]"
     ]
    },
    {
     "name": "stdout",
     "output_type": "stream",
     "text": [
      "Current Epoch: 20/20, Test Loss: 0.302159, Test Accuracy: 90.206 %\n"
     ]
    },
    {
     "name": "stderr",
     "output_type": "stream",
     "text": [
      "\n"
     ]
    }
   ],
   "source": [
    "mlp_metrics = training(mlp, optimizer_mlp, criterion, trainloader, testloader, n_epochs=n_epochs, \n",
    "                                         save_path=\"trained_models\\mlp.pt\",need_eval=True, print_every=print_every)\n",
    "cnn_metrics = training(cnn, optimizer_cnn, criterion, trainloader, testloader, n_epochs=n_epochs, \n",
    "                                         save_path=\"trained_models\\cnn.pt\",need_eval=False, print_every=print_every)\n",
    "cnn_batch_metrics = training(cnn_batch, optimizer_cnn_batch, criterion, trainloader, testloader, n_epochs=n_epochs, \n",
    "                                         save_path=\"trained_models\\cnn_batch.pt\",need_eval=True, print_every=print_every)\n"
   ]
  },
  {
   "cell_type": "code",
   "execution_count": 15,
   "metadata": {},
   "outputs": [],
   "source": [
    "def plot_metrics(ax, metrics, title, n_epochs):\n",
    "    ax.plot(np.arange(1, n_epochs+1), metrics[0],\"--g\", label='Train Loss')\n",
    "    ax.plot(np.arange(1, n_epochs+1), metrics[1], \"-b\", label='Test Loss')\n",
    "    plt.title(title)\n",
    "    plt.xlabel(\"n epochs\")\n",
    "    plt.ylabel(\"Loss\")\n",
    "    plt.legend()\n",
    "    plt.ylim(0,1)"
   ]
  },
  {
   "cell_type": "code",
   "execution_count": 16,
   "metadata": {},
   "outputs": [],
   "source": [
    "def plot_accuracy(ax, metrics, titles, n_epochs):\n",
    "\n",
    "    for i in range(len(metrics)):\n",
    "        ax.plot(np.arange(1, n_epochs+1), metrics[i][2], label=titles[i])\n",
    "        \n",
    "    plt.title(\"Accuracy\")\n",
    "    plt.xlabel(\"n epochs\")\n",
    "    plt.ylabel(\"Accuracy\")\n",
    "    plt.legend()\n",
    "    plt.ylim(0,1)"
   ]
  },
  {
   "cell_type": "code",
   "execution_count": 17,
   "metadata": {},
   "outputs": [
    {
     "data": {
      "image/png": "[encoded data removed]",
      "text/plain": [
       "<matplotlib.figure.Figure at 0x2480a89e1d0>"
      ]
     },
     "metadata": {
      "needs_background": "light"
     },
     "output_type": "display_data"
    }
   ],
   "source": [
    "fig = plt.figure(figsize=(20,4))\n",
    "ax = fig.add_subplot(1, 3, 1)\n",
    "plot_metrics(ax, mlp_metrics, \"MLP performance\", n_epochs)\n",
    "ax = fig.add_subplot(1, 3, 2)\n",
    "plot_metrics(ax, cnn_metrics, \"CNN performance\", n_epochs)\n",
    "ax = fig.add_subplot(1, 3, 3)\n",
    "plot_metrics(ax, cnn_batch_metrics, \"CNN with batch performance\", n_epochs)"
   ]
  },
  {
   "cell_type": "code",
   "execution_count": 18,
   "metadata": {},
   "outputs": [
    {
     "data": {
      "image/png": "[encoded data removed]",
      "text/plain": [
       "<matplotlib.figure.Figure at 0x2480a912400>"
      ]
     },
     "metadata": {
      "needs_background": "light"
     },
     "output_type": "display_data"
    }
   ],
   "source": [
    "fig = plt.figure()\n",
    "ax = plt.axes()\n",
    "plot_accuracy(ax, [mlp_metrics, cnn_metrics, cnn_batch_metrics], [\"MLP\", \"CNN\", \"CNN with Batch\"], n_epochs)"
   ]
  },
  {
   "cell_type": "markdown",
   "metadata": {},
   "source": [
    " MLP reached very quickly a plateau that would warrant more complexity/layers to overcome\n",
    " \n",
    " CNN though is still on an ascending trend (compared to MLP) and more epochs would likely improve the results\n",
    " \n",
    " CNNs are much longer to trained, it would have been worthed to increase the size of the MLP to reflect this fairly\n",
    " \n",
    "### Batch_norm makes a massive difference"
   ]
  },
  {
   "cell_type": "code",
   "execution_count": 23,
   "metadata": {},
   "outputs": [
    {
     "data": {
      "image/png": "[encoded data removed]",
      "text/plain": [
       "<matplotlib.figure.Figure at 0x248041db7b8>"
      ]
     },
     "metadata": {},
     "output_type": "display_data"
    }
   ],
   "source": [
    "mlp.load_state_dict(torch.load(\"trained_models\\mlp.pt\"))\n",
    "cnn.load_state_dict(torch.load(\"trained_models\\cnn.pt\"))\n",
    "cnn_batch.load_state_dict(torch.load(\"trained_models\\cnn_batch.pt\"))\n",
    "\n",
    "images, labels = next(iter(testloader))\n",
    "reverse_dict = {b:a for a,b in testset.class_to_idx.items()}\n",
    "\n",
    "preds_mlp = torch.exp(mlp(images))\n",
    "top_p_mlp, top_class = preds_mlp.topk(1, dim=1)\n",
    "preds_mlp = [reverse_dict[int(a.numpy())] for a in top_class]\n",
    "\n",
    "preds_cnn = torch.exp(cnn(images))\n",
    "top_p_cnn, top_class = preds_cnn.topk(1, dim=1)\n",
    "preds_cnn = [reverse_dict[int(a.numpy())] for a in top_class]\n",
    "\n",
    "preds_cnn_batch = torch.exp(cnn_batch(images))\n",
    "top_p_cnn_batch, top_class = preds_cnn_batch.topk(1, dim=1)\n",
    "preds_cnn_batch = [reverse_dict[int(a.numpy())] for a in top_class]\n",
    "\n",
    "fig = plt.figure(figsize=(20, 4))\n",
    "plot_size=4\n",
    "for idx in np.arange(plot_size):\n",
    "    ax = fig.add_subplot(2, plot_size/2, idx+1, xticks=[], yticks=[])\n",
    "    ax.imshow(np.squeeze(images[idx][0].numpy()), cmap='gray')\n",
    "    title = \"label {} - mlp, cnn, cnn_batch preds: {}, {}, {} - prob {:.2f}, {:.2f}, {:.2f}\".format(\n",
    "    reverse_dict[int(labels[idx])], preds_mlp[idx], preds_cnn[idx], preds_cnn_batch[idx],\n",
    "    float(top_p_mlp[idx]), float(top_p_cnn[idx]), float(top_p_cnn_batch[idx])\n",
    "    )\n",
    "    plt.title(title) "
   ]
  }
 ],
 "metadata": {
  "kernelspec": {
   "display_name": "Python 3",
   "language": "python",
   "name": "python3"
  },
  "language_info": {
   "codemirror_mode": {
    "name": "ipython",
    "version": 3
   },
   "file_extension": ".py",
   "mimetype": "text/x-python",
   "name": "python",
   "nbconvert_exporter": "python",
   "pygments_lexer": "ipython3",
   "version": "3.5.6"
  }
 },
 "nbformat": 4,
 "nbformat_minor": 4
}
